{
 "cells": [
  {
   "cell_type": "code",
   "execution_count": 2,
   "metadata": {},
   "outputs": [
    {
     "name": "stdout",
     "output_type": "stream",
     "text": [
      "RandomizedSearch CV best score : 0.8140\n",
      "\n",
      "\n",
      "Parameters that give the best results : \n",
      "\n",
      " {'n_estimators': 50, 'min_samples_split': 10, 'min_samples_leaf': 2, 'max_depth': 5, 'learning_rate': 0.1}\n",
      "\n",
      "\n",
      "Estimator that was chosen by the search : \n",
      "\n",
      " GradientBoostingClassifier(max_depth=5, min_samples_leaf=2,\n",
      "                           min_samples_split=10, n_estimators=50)\n",
      "0.811625\n"
     ]
    }
   ],
   "source": [
    "from preprocess import *\n",
    "from sklearn.ensemble import GradientBoostingClassifier\n",
    "from sklearn.metrics import classification_report, accuracy_score\n",
    "from sklearn.model_selection import RandomizedSearchCV\n",
    "\n",
    "input_features = ['x1', 'x2', 'x3', 'x4', 'x5', 'x6']\n",
    "\n",
    "X_train = training_df[input_features]\n",
    "y_train = training_df['sentiment']\n",
    "\n",
    "X_test = test_df[input_features]\n",
    "y_test = test_df['sentiment']\n",
    "\n",
    "# Parameter distribution for randomized search over Gradient Boosting parameters\n",
    "param_dist = {\n",
    "    'n_estimators': [50, 100, 200],\n",
    "    'learning_rate': [0.01, 0.1, 0.2],\n",
    "    'max_depth': [3, 4, 5],\n",
    "    'min_samples_split': [2, 5, 10],\n",
    "    'min_samples_leaf': [1, 2, 4]\n",
    "}\n",
    "\n",
    "# Perform randomized search\n",
    "random_search = RandomizedSearchCV(GradientBoostingClassifier(), param_dist, n_iter=10, cv=5, scoring='accuracy', n_jobs=-1, random_state=42)\n",
    "random_search.fit(X_train, y_train)\n",
    "\n",
    "print('RandomizedSearch CV best score : {:.4f}\\n\\n'.format(random_search.best_score_))\n",
    "print('Parameters that give the best results :','\\n\\n', (random_search.best_params_))\n",
    "print('\\n\\nEstimator that was chosen by the search :','\\n\\n', (random_search.best_estimator_))\n",
    "\n",
    "# Create the final model using the best parameters\n",
    "final_model = GradientBoostingClassifier(n_estimators=random_search.best_params_['n_estimators'],\n",
    "                                         learning_rate=random_search.best_params_['learning_rate'],\n",
    "                                         max_depth=random_search.best_params_['max_depth'],\n",
    "                                         min_samples_split=random_search.best_params_['min_samples_split'],\n",
    "                                         min_samples_leaf=random_search.best_params_['min_samples_leaf'])\n",
    "final_model.fit(X_train, y_train)\n",
    "\n",
    "# Evaluate final model\n",
    "y_pred = final_model.predict(X_test)\n",
    "print(accuracy_score(y_test, y_pred))\n"
   ]
  },
  {
   "cell_type": "code",
   "execution_count": 3,
   "metadata": {},
   "outputs": [],
   "source": [
    "import pickle\n",
    "\n",
    "with open('exported_models/gradient_boosting.pkl', 'wb') as f:\n",
    "    pickle.dump(final_model, f)"
   ]
  }
 ],
 "metadata": {
  "kernelspec": {
   "display_name": "Python 3 (ipykernel)",
   "language": "python",
   "name": "python3"
  },
  "language_info": {
   "codemirror_mode": {
    "name": "ipython",
    "version": 3
   },
   "file_extension": ".py",
   "mimetype": "text/x-python",
   "name": "python",
   "nbconvert_exporter": "python",
   "pygments_lexer": "ipython3",
   "version": "3.12.0"
  }
 },
 "nbformat": 4,
 "nbformat_minor": 4
}
